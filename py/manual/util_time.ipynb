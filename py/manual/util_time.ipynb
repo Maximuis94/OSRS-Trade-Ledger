{
 "cells": [
  {
   "cell_type": "markdown",
   "source": [
    "# Database notebook\n",
    "This notebook contains various implementations for database interactions."
   ],
   "metadata": {
    "collapsed": false
   }
  },
  {
   "cell_type": "markdown",
   "source": [
    "### Imports + globals\n",
    "In this section, modules are imported and global variables are defined. Execute on startup / after kernel reset only"
   ],
   "metadata": {
    "collapsed": false
   }
  },
  {
   "cell_type": "code",
   "execution_count": 1,
   "metadata": {
    "collapsed": true
   },
   "outputs": [
    {
     "name": "stdout",
     "output_type": "stream",
     "text": [
      "Project root was set to C:/Users/Max Moons/Documents/GitHub/OSRS-Trade-Ledger/py/\n",
      "Setting up RealtimePricesSnapshot class (allow_rbpi_download=True)...\n",
      "Setting up ItemWikiMapping...\n",
      "global_variables importer setup time: 281.2ms\n"
     ]
    }
   ],
   "source": [
    "from model.database import Database\n",
    "from collections.abc import Iterable, Callable\n",
    "\n",
    "from global_variables.importer import *"
   ]
  },
  {
   "cell_type": "markdown",
   "source": [
    "### Establishing db connections\n",
    "Below various db connections are established. Read-only mode is highly recommended to avoid corrupting the database"
   ],
   "metadata": {
    "collapsed": false
   }
  },
  {
   "cell_type": "code",
   "execution_count": 2,
   "outputs": [],
   "source": [
    "# Timeseries database\n",
    "db_ts = Database(gp.f_db_timeseries, read_only=True)\n",
    "\n",
    "# Local database\n",
    "db_local = Database(gp.f_db_local, read_only=True)\n",
    "\n",
    "# Sandbox database (outdated, all tables, fewer rows per table)\n",
    "db = Database(gp.f_db_sandbox, read_only=True)\n",
    "\n",
    "def print_rows(rows: Iterable, n_rows: int = None, row_printer: Callable = print):\n",
    "    for t in rows[:len(rows) if n_rows is None else n_rows]:\n",
    "        row_printer(t)\n",
    "    print(f'Total rows:{len(transactions)}')"
   ],
   "metadata": {
    "collapsed": false
   }
  },
  {
   "cell_type": "code",
   "execution_count": 4,
   "outputs": [
    {
     "name": "stdout",
     "output_type": "stream",
     "text": [
      "{'item_name': 'Death rune', 'item_id': 560, 'timestamp': 1716262942, 'is_buy': 0, 'price': 118, 'COUNT(*)': 20850, 'AVG(price)': 114.53448441247002}\n",
      "{'item_name': 'Blood rune', 'item_id': 565, 'timestamp': 1716262940, 'is_buy': 0, 'price': 205, 'COUNT(*)': 20644, 'AVG(price)': 208.80740166634374}\n",
      "{'item_name': 'Revenant ether', 'item_id': 21820, 'timestamp': 1716262960, 'is_buy': 1, 'price': 175, 'COUNT(*)': 20620, 'AVG(price)': 171.33118331716778}\n",
      "{'item_name': 'Chaos rune', 'item_id': 562, 'timestamp': 1716262953, 'is_buy': 1, 'price': 59, 'COUNT(*)': 20402, 'AVG(price)': 61.977110087246345}\n",
      "{'item_name': 'Coal', 'item_id': 453, 'timestamp': 1716262956, 'is_buy': 1, 'price': 142, 'COUNT(*)': 20233, 'AVG(price)': 142.62793456234863}\n",
      "{'item_name': 'Law rune', 'item_id': 563, 'timestamp': 1716262954, 'is_buy': 1, 'price': 118, 'COUNT(*)': 19872, 'AVG(price)': 120.07130636070853}\n",
      "{'item_name': 'Rune arrow', 'item_id': 892, 'timestamp': 1716262916, 'is_buy': 0, 'price': 77, 'COUNT(*)': 19505, 'AVG(price)': 71.35929248910536}\n",
      "{'item_name': \"Zulrah's scales\", 'item_id': 12934, 'timestamp': 1716262934, 'is_buy': 1, 'price': 112, 'COUNT(*)': 19493, 'AVG(price)': 119.49571641101934}\n",
      "{'item_name': 'Nature rune', 'item_id': 561, 'timestamp': 1716262923, 'is_buy': 1, 'price': 91, 'COUNT(*)': 19478, 'AVG(price)': 93.78129171372831}\n",
      "{'item_name': 'Battlestaff', 'item_id': 1391, 'timestamp': 1716262955, 'is_buy': 0, 'price': 7981, 'COUNT(*)': 19203, 'AVG(price)': 7962.504973181274}\n",
      "Total rows:3950\n",
      "{'item_name': 'Death rune', 'item_id': 560, 'timestamp': 1716262957, 'is_buy': 1, 'price': 114, 'COUNT(*)': 20849, 'AVG(price)': 114.53431819271907}\n",
      "{'item_name': 'Blood rune', 'item_id': 565, 'timestamp': 1716262960, 'is_buy': 1, 'price': 201, 'COUNT(*)': 20643, 'AVG(price)': 208.80758610667056}\n",
      "{'item_name': 'Revenant ether', 'item_id': 21820, 'timestamp': 1716262960, 'is_buy': 1, 'price': 175, 'COUNT(*)': 20620, 'AVG(price)': 171.33118331716778}\n",
      "{'item_name': 'Chaos rune', 'item_id': 562, 'timestamp': 1716262953, 'is_buy': 1, 'price': 59, 'COUNT(*)': 20402, 'AVG(price)': 61.977110087246345}\n",
      "{'item_name': 'Coal', 'item_id': 453, 'timestamp': 1716262956, 'is_buy': 1, 'price': 142, 'COUNT(*)': 20233, 'AVG(price)': 142.62793456234863}\n",
      "{'item_name': 'Law rune', 'item_id': 563, 'timestamp': 1716262954, 'is_buy': 1, 'price': 118, 'COUNT(*)': 19872, 'AVG(price)': 120.07130636070853}\n",
      "{'item_name': 'Rune arrow', 'item_id': 892, 'timestamp': 1716262994, 'is_buy': 1, 'price': 80, 'COUNT(*)': 19503, 'AVG(price)': 71.35871404399323}\n",
      "{'item_name': \"Zulrah's scales\", 'item_id': 12934, 'timestamp': 1716262961, 'is_buy': 0, 'price': 114, 'COUNT(*)': 19492, 'AVG(price)': 119.49610096449825}\n",
      "{'item_name': 'Nature rune', 'item_id': 561, 'timestamp': 1716262958, 'is_buy': 0, 'price': 92, 'COUNT(*)': 19477, 'AVG(price)': 93.78143451250193}\n",
      "{'item_name': 'Battlestaff', 'item_id': 1391, 'timestamp': 1716262955, 'is_buy': 0, 'price': 7981, 'COUNT(*)': 19203, 'AVG(price)': 7962.504973181274}\n",
      "Total rows:3950\n"
     ]
    }
   ],
   "source": [
    "def printer(t: dict):\n",
    "    print({'item_name': go.id_name[t.get('item_id')], **t})\n",
    "\n",
    "# transactions = db_ts.execute_select(table='realtime',t0=time.time()-86400*10, #print_result=True,\n",
    "#                                           action='count', group_by='item_id', order_by='COUNT(*) DESC')\n",
    "\n",
    "sql = \"\"\"SELECT *, COUNT(*), AVG(price) FROM \"realtime\" WHERE timestamp>=?  GROUP BY item_id ORDER BY COUNT(*) DESC\"\"\"\n",
    "transactions = db_ts.execute(sql, (int(time.time()-86400*10),)).fetchall()\n",
    "print_rows(transactions, 10, row_printer=printer)"
   ],
   "metadata": {
    "collapsed": false
   }
  },
  {
   "cell_type": "markdown",
   "source": [
    "# Test method"
   ],
   "metadata": {
    "collapsed": false
   }
  },
  {
   "cell_type": "code",
   "execution_count": 2,
   "outputs": [],
   "source": [
    "def test_method(my_method, n_exe: int, **kwargs):\n",
    "\n",
    "    tag = '' if kwargs.get('tag') is None else f\"Method: {kwargs.get('tag')} \"\n",
    "    del kwargs['tag']\n",
    "    t_start = time.time()\n",
    "    for _ in range(n_exe):\n",
    "        my_method(**kwargs)\n",
    "    delta_t = time.time()-t_start\n",
    "\n",
    "    if delta_t < 10:\n",
    "        s = f'N: {n_exe} Time taken: {1000*(delta_t):.1f}ms'\n",
    "    elif delta_t < 60:\n",
    "        s = f'N: {n_exe} Time taken: {delta_t:.1f}s'\n",
    "    elif delta_t < 3600:\n",
    "        s = f'N: {n_exe} Time taken: {delta_t//60:0>2}:{delta_t%60:0>2}'\n",
    "    else:\n",
    "        s = f'N: {n_exe} Time taken: {delta_t//3600:0>2}:{delta_t%3600//60:0>2}:{delta_t%60:0>2}'\n",
    "    print(f\"{tag}{s}\\n\\tOutput={my_method(**kwargs)}\\n\")"
   ],
   "metadata": {
    "collapsed": false
   }
  },
  {
   "cell_type": "markdown",
   "source": [
    "# Current time getters\n",
    "Basic time-related conversions like unix -> datetime.datetime and datetime.datetime -> unix"
   ],
   "metadata": {
    "collapsed": false
   }
  },
  {
   "cell_type": "code",
   "execution_count": 3,
   "outputs": [],
   "source": [
    "def loc_dtn() -> datetime.datetime:\n",
    "    \"\"\" Return the local datetime.datetime.now() \"\"\"\n",
    "    return datetime.datetime.now()\n",
    "\n",
    "def utc_dtn() -> datetime.datetime:\n",
    "    \"\"\" Return the utc datetime.datetime.now() \"\"\"\n",
    "    return datetime.datetime.utcnow()\n"
   ],
   "metadata": {
    "collapsed": false
   }
  },
  {
   "cell_type": "code",
   "execution_count": 3,
   "outputs": [],
   "source": [],
   "metadata": {
    "collapsed": false
   }
  },
  {
   "cell_type": "markdown",
   "source": [
    "# datetime.datetime -> UNIX conversions + UNIX -> datetime.datetime conversions\n",
    "Basic conversions between UNIX and datetime.datetime objects"
   ],
   "metadata": {
    "collapsed": false
   }
  },
  {
   "cell_type": "code",
   "execution_count": 4,
   "outputs": [],
   "source": [
    "def loc_unix_dt_1(unix) -> datetime.datetime:\n",
    "    \"\"\" Convert the given UNIX timestamp to a local datetime.datetime \"\"\"\n",
    "    return datetime.datetime.fromtimestamp(unix)\n",
    "\n",
    "def loc_unix_dt_2(unix) -> datetime.datetime:\n",
    "    \"\"\" Convert the given UNIX timestamp to a local datetime.datetime \"\"\"\n",
    "    return loc_0 + datetime.timedelta(seconds=unix)\n",
    "\n",
    "def loc_unix_dt_3(unix) -> datetime.datetime:\n",
    "    return datetime.datetime.combine(date=datetime.date.fromtimestamp(unix), time=datetime.time(unix%86400//3600, unix%3600//60, unix%60))\n",
    "\n",
    "loc_unix_dt = loc_unix_dt_1\n",
    "\n",
    "n, unix_ = 1000000, int(time.time())\n",
    "# test_method(loc_unix_dt_1, n_exe=n, tag='loc_unix_dt_1', unix=unix_)\n",
    "# test_method(loc_unix_dt_2, n_exe=n, tag='loc_unix_dt_2', unix=unix_)\n",
    "# test_method(loc_unix_dt_3, n_exe=n, tag='loc_unix_dt_3', unix=unix_)"
   ],
   "metadata": {
    "collapsed": false
   }
  },
  {
   "cell_type": "code",
   "execution_count": 5,
   "outputs": [],
   "source": [
    "def loc_dt_unix_1(dt: datetime.datetime):\n",
    "    \"\"\" Convert a local datetime.datetime to a UNIX timestamp \"\"\"\n",
    "    return (dt-loc_0).total_seconds()\n",
    "\n",
    "def loc_dt_unix_2(dt: datetime.datetime):\n",
    "    \"\"\" Convert a local datetime.datetime to a UNIX timestamp \"\"\"\n",
    "    return time.mktime((dt.year, dt.month, dt.day, dt.hour, dt.minute, dt.second, 0, 0, 1))\n",
    "\n",
    "def loc_dt_unix_3(dt: datetime.datetime):\n",
    "    \"\"\" Convert a local datetime.datetime to a UNIX timestamp \"\"\"\n",
    "    return time.mktime(dt.timetuple())\n",
    "\n",
    "def loc_dt_unix_4(dt: datetime.datetime):\n",
    "    \"\"\" Convert a local datetime.datetime to a UNIX timestamp \"\"\"\n",
    "    return dt.timestamp()\n",
    "\n",
    "loc_dt_unix = loc_dt_unix_1\n",
    "\n",
    "# n, dt_ = 1000000, loc_dtn()\n",
    "# test_method(loc_dt_unix_1, n_exe=n, tag='loc_dt_unix_1', dt=dt_)\n",
    "# test_method(loc_dt_unix_2, n_exe=n, tag='loc_dt_unix_2', dt=dt_)\n",
    "# test_method(loc_dt_unix_3, n_exe=n, tag='loc_dt_unix_3', dt=dt_)\n",
    "# test_method(loc_dt_unix_4, n_exe=n, tag='loc_dt_unix_4', dt=dt_)"
   ],
   "metadata": {
    "collapsed": false
   }
  },
  {
   "cell_type": "code",
   "execution_count": 6,
   "outputs": [],
   "source": [
    "def utc_unix_dt_1(unix) -> datetime.datetime:\n",
    "    \"\"\" Convert the given UNIX timestamp to a local datetime.datetime \"\"\"\n",
    "    return datetime.datetime.utcfromtimestamp(unix)\n",
    "\n",
    "def utc_unix_dt_2(unix) -> datetime.datetime:\n",
    "    \"\"\" Convert the given UNIX timestamp to a UTC datetime.datetime \"\"\"\n",
    "    return utc_0 + datetime.timedelta(seconds=unix)\n",
    "\n",
    "utc_unix_dt = utc_unix_dt_1\n",
    "\n",
    "# n, unix_ = 1000000, time.time()\n",
    "# test_method(utc_unix_dt_1, n_exe=n, tag='utc_unix_dt_1', unix=unix_)\n",
    "# test_method(utc_unix_dt_2, n_exe=n, tag='utc_unix_dt_2', unix=unix_)"
   ],
   "metadata": {
    "collapsed": false
   }
  },
  {
   "cell_type": "code",
   "execution_count": 7,
   "outputs": [
    {
     "name": "stdout",
     "output_type": "stream",
     "text": [
      "Method: utc_dt_unix_1 N: 1000000 Time taken: 477.1ms\n",
      "\tOutput=1714802618.337317\n",
      "\n",
      "Method: utc_dt_unix_2 N: 1000000 Time taken: 657.7ms\n",
      "\tOutput=1714802618.0\n",
      "\n",
      "Method: utc_dt_unix_3 N: 1000000 Time taken: 680.8ms\n",
      "\tOutput=1714802618.0\n",
      "\n",
      "Method: utc_dt_unix_4 N: 1000000 Time taken: 338.6ms\n",
      "\tOutput=1714802618.337318\n",
      "\n"
     ]
    }
   ],
   "source": [
    "# Fastest\n",
    "def utc_dt_unix_1(dt: datetime.datetime):\n",
    "    \"\"\" Convert a UTC datetime.datetime to a UNIX timestamp \"\"\"\n",
    "    return dt.timestamp()+delta_s_loc_utc\n",
    "\n",
    "def utc_dt_unix_2(dt: datetime.datetime):\n",
    "    \"\"\" Convert a UTC datetime.datetime to a UNIX timestamp \"\"\"\n",
    "    return time.mktime((dt.year, dt.month, dt.day, dt.hour, dt.minute, dt.second+delta_s_loc_utc, 0, 0, -1))\n",
    "\n",
    "def utc_dt_unix_3(dt: datetime.datetime):\n",
    "    \"\"\" Convert a local datetime.datetime to a UNIX timestamp \"\"\"\n",
    "    return time.mktime((dt.year, dt.month, dt.day, dt.hour, dt.minute, dt.second, 0, 0, -1))+delta_s_loc_utc\n",
    "\n",
    "def utc_dt_unix_4(dt: datetime.datetime):\n",
    "    \"\"\" Convert a local datetime.datetime to a UNIX timestamp \"\"\"\n",
    "    return (dt-utc_0).total_seconds()\n",
    "\n",
    "utc_dt_unix = utc_dt_unix_4\n",
    "\n",
    "n, dt_utc_ = 1000000, utc_dtn()\n",
    "test_method(utc_dt_unix_1, n_exe=n, tag='utc_dt_unix_1', dt=dt_utc_)\n",
    "test_method(utc_dt_unix_2, n_exe=n, tag='utc_dt_unix_2', dt=dt_utc_)\n",
    "test_method(utc_dt_unix_3, n_exe=n, tag='utc_dt_unix_3', dt=dt_utc_)\n",
    "test_method(utc_dt_unix_4, n_exe=n, tag='utc_dt_unix_4', dt=dt_utc_)"
   ],
   "metadata": {
    "collapsed": false
   }
  },
  {
   "cell_type": "code",
   "execution_count": 8,
   "outputs": [],
   "source": [
    "n, unix_, dt_, dt_utc_ = 1000000, time.time(), datetime.datetime.now(), utc_dtn()"
   ],
   "metadata": {
    "collapsed": false
   }
  },
  {
   "cell_type": "code",
   "execution_count": 9,
   "outputs": [
    {
     "name": "stdout",
     "output_type": "stream",
     "text": [
      "2024-05-04 06:03:40.520928\n"
     ]
    }
   ],
   "source": [
    "dtn = loc_dtn()\n",
    "# dtn.fromtimestamp()\n",
    "\n",
    "print(datetime.datetime.utcnow())"
   ],
   "metadata": {
    "collapsed": false
   }
  },
  {
   "cell_type": "code",
   "execution_count": 9,
   "outputs": [],
   "source": [],
   "metadata": {
    "collapsed": false
   }
  },
  {
   "cell_type": "code",
   "execution_count": 10,
   "outputs": [
    {
     "name": "stdout",
     "output_type": "stream",
     "text": [
      "time.struct_time(tm_year=2024, tm_mon=5, tm_mday=4, tm_hour=6, tm_min=3, tm_sec=40, tm_wday=5, tm_yday=125, tm_isdst=-1)\n"
     ]
    }
   ],
   "source": [
    "print(datetime.datetime.now(tz=tz_utc).timetuple())"
   ],
   "metadata": {
    "collapsed": false
   }
  },
  {
   "cell_type": "code",
   "execution_count": 10,
   "outputs": [],
   "source": [],
   "metadata": {
    "collapsed": false
   }
  }
 ],
 "metadata": {
  "kernelspec": {
   "display_name": "Python 3",
   "language": "python",
   "name": "python3"
  },
  "language_info": {
   "codemirror_mode": {
    "name": "ipython",
    "version": 2
   },
   "file_extension": ".py",
   "mimetype": "text/x-python",
   "name": "python",
   "nbconvert_exporter": "python",
   "pygments_lexer": "ipython2",
   "version": "2.7.6"
  }
 },
 "nbformat": 4,
 "nbformat_minor": 0
}
